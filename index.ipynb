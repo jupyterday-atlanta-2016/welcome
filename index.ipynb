{
 "cells": [
  {
   "cell_type": "markdown",
   "metadata": {
    "nbpresent": {
     "id": "e0e7da9b-06a8-427b-9715-411cee2bd899"
    }
   },
   "source": [
    "# _Welcome to_ **JupyterDay** Atlanta 2016"
   ]
  },
  {
   "cell_type": "markdown",
   "metadata": {
    "nbpresent": {
     "id": "39dfbbd7-256e-45f4-9301-b4380f0b6b9f"
    }
   },
   "source": [
    "![](http://i.imgur.com/anC2a3F.jpg)"
   ]
  },
  {
   "cell_type": "markdown",
   "metadata": {
    "nbpresent": {
     "id": "853907ae-0b68-4988-b6d3-333897e57a1c"
    }
   },
   "source": [
    "# Thanks, Sponsors!"
   ]
  },
  {
   "cell_type": "markdown",
   "metadata": {
    "nbpresent": {
     "id": "f95a1e4f-1fe6-464a-9e2a-2ffb9d643d6d"
    }
   },
   "source": [
    "![](https://upload.wikimedia.org/wikipedia/en/1/1e/GTRI_Logo_2011.png)"
   ]
  },
  {
   "cell_type": "markdown",
   "metadata": {
    "nbpresent": {
     "id": "cedde6e7-f649-4615-9d38-c8ea51602c44"
    }
   },
   "source": [
    "![](http://www.numfocus.org/uploads/6/0/6/9/60696727/1457562110.png)"
   ]
  },
  {
   "cell_type": "markdown",
   "metadata": {
    "nbpresent": {
     "id": "f619d847-1755-41bb-a50b-993cce2da324"
    }
   },
   "source": [
    "![](https://lh6.googleusercontent.com/--0BJE0-Lc94/AAAAAAAAAAI/AAAAAAAAAA4/faddGgzzIlg/s0-c-k-no-ns/photo.jpg)"
   ]
  },
  {
   "cell_type": "markdown",
   "metadata": {
    "nbpresent": {
     "id": "9d80abf9-ea6f-40db-accb-ebc2e3819439"
    }
   },
   "source": [
    "![](http://www.southeastlinuxfest.org/wp-content/uploads/2014/06/ORM_logo_box1_cmyk.jpg)"
   ]
  },
  {
   "cell_type": "markdown",
   "metadata": {
    "nbpresent": {
     "id": "de5675b6-0295-4f8c-b244-fdf202c45287"
    }
   },
   "source": [
    "![](http://jupyter.org/assets/main-logo.svg)"
   ]
  },
  {
   "cell_type": "markdown",
   "metadata": {
    "nbpresent": {
     "id": "8796c7d1-dc26-4551-abc8-8f6518558b72"
    }
   },
   "source": [
    "![](https://www.continuum.io/sites/default/files/Anaconda_stacked_RGB.png)"
   ]
  },
  {
   "cell_type": "markdown",
   "metadata": {
    "nbpresent": {
     "id": "7a522d0a-ad49-42b0-bdf2-ce5778267245"
    }
   },
   "source": [
    "# Code of Conduct"
   ]
  },
  {
   "cell_type": "markdown",
   "metadata": {
    "nbpresent": {
     "id": "273f97af-7deb-4174-97a7-b5d6fd1339ad"
    }
   },
   "source": [
    "At Project Jupyter and JupyterDay, we are committed to providing a harassment-free conference experience for everyone, regardless of gender, sexual orientation, disability, physical appearance, body size, race, or religion. Conference organizers will not tolerate harassment of participants in any form. Sexual language and imagery is not appropriate for any part of the conference venue, including talks."
   ]
  },
  {
   "cell_type": "markdown",
   "metadata": {
    "nbpresent": {
     "id": "60464d0f-5ff3-4b67-8c71-93c499687694"
    }
   },
   "source": [
    "Be kind to others. Do not insult or put down other attendees. Behave professionally. Remember that harassment and sexist, racist, or exclusionary jokes are not appropriate for Project Jupyter events."
   ]
  },
  {
   "cell_type": "markdown",
   "metadata": {
    "nbpresent": {
     "id": "a843a112-6178-439b-9445-3f822315e700"
    }
   },
   "source": [
    "Attendees violating these rules may be asked to leave the conference without a refund at the sole discretion of the conference organizers."
   ]
  },
  {
   "cell_type": "markdown",
   "metadata": {
    "nbpresent": {
     "id": "7d2d246c-f1aa-4945-889a-07acd1b0292a"
    }
   },
   "source": [
    "# Code of Conduct: Harrassment"
   ]
  },
  {
   "cell_type": "markdown",
   "metadata": {
    "nbpresent": {
     "id": "e2eaefd7-93b9-4c2d-8906-5558cdfad4ce"
    }
   },
   "source": [
    "- Offensive verbal comments related to race, ethnicity, culture, national origin, color, immigration status, social and economic class, educational level, sexual orientation, gender, gender identity and expression, age, physical appearance, family status, political belief, religion, and mental and physical disability.\n",
    "- Sexual images in public spaces\n",
    "- Deliberate intimidation, stalking, or following\n",
    "- Harassing photography or recording"
   ]
  },
  {
   "cell_type": "markdown",
   "metadata": {
    "collapsed": true,
    "nbpresent": {
     "id": "08edb275-ee42-4f4f-b4d7-3c882c11cf2f"
    }
   },
   "source": [
    "- Sustained disruption of talks or other events\n",
    "- Inappropriate physical contact\n",
    "- Unwelcome sexual attention\n",
    "- Advocating for, or encouraging, any of the above behavior"
   ]
  },
  {
   "cell_type": "markdown",
   "metadata": {
    "nbpresent": {
     "id": "8267ed68-9482-47a1-9c0b-826f3e4f5fde"
    }
   },
   "source": [
    "# Keep it clean, Please!"
   ]
  },
  {
   "cell_type": "markdown",
   "metadata": {
    "collapsed": true,
    "nbpresent": {
     "id": "6418b085-babb-4786-9032-4637575aa216"
    }
   },
   "source": [
    "<img style=\"width: 100%\" src=\"https://imgs.xkcd.com/comics/fucking_blue_shells.png\"/>\n",
    "\n",
    "#### [xkcd #290](https://xkcd.com/290/)"
   ]
  },
  {
   "cell_type": "code",
   "execution_count": 28,
   "metadata": {
    "collapsed": false
   },
   "outputs": [
    {
     "data": {
      "text/html": [
       "<style>\n",
       ".rendered_html table{\n",
       "    border-collapse: collapse;\n",
       "    border: 1px solid black;\n",
       "    border: none;\n",
       "}\n",
       ".rendered_html tr, .rendered_html th, .rendered_html td{\n",
       "    border: none;\n",
       "    padding: 10px;\n",
       "}\n",
       "</style>"
      ],
      "text/plain": [
       "<IPython.core.display.HTML object>"
      ]
     },
     "metadata": {},
     "output_type": "display_data"
    }
   ],
   "source": [
    "%%html\n",
    "<style>\n",
    ".rendered_html table{\n",
    "    border-collapse: collapse;\n",
    "    border: 1px solid black;\n",
    "    border: none;\n",
    "}\n",
    ".rendered_html tr, .rendered_html th, .rendered_html td{\n",
    "    border: none;\n",
    "    padding: 10px;\n",
    "}\n",
    "</style>"
   ]
  },
  {
   "cell_type": "markdown",
   "metadata": {
    "nbpresent": {
     "id": "2c917833-5133-4569-bc26-e5e92b6b1617"
    }
   },
   "source": [
    "# Schedule: AM"
   ]
  },
  {
   "cell_type": "markdown",
   "metadata": {
    "collapsed": true,
    "nbpresent": {
     "id": "8ae5a178-8e1c-457f-a9bb-f5b8592683f7"
    }
   },
   "source": [
    "| when | what | who |\n",
    "|------|------|-----|\n",
    "| 09:15 | _Open Source is the Medium of Innovation_ | |\n",
    "| 10:00 | _Wandering in Four Dimensions_ | Stephen Welch |\n",
    "| 10:40 | _Using Jupyter Dashboard and ipympl <br/> for Tropical Storm Emergency Management_ | Chris Calloway |\n",
    "| 11:20 | _Oriole: a new learning medium based on <br/>Jupyter + Docker_ | Paco Nathan |\n",
    "| 12:00 | LUNCH | O'Reilly Media |"
   ]
  },
  {
   "cell_type": "markdown",
   "metadata": {
    "collapsed": true,
    "nbpresent": {
     "id": "7418ed67-a052-4439-9ee1-583dd1f15d59"
    }
   },
   "source": [
    "# Schedule: Sessions"
   ]
  },
  {
   "cell_type": "markdown",
   "metadata": {
    "nbpresent": {
     "id": "c36091e3-5fa4-45d1-8171-1767b55b1b97"
    }
   },
   "source": [
    "| when  | what | who |\n",
    "|-------|------|-----|\n",
    "| 13:00 | _JupyterHub: A \"Thing Explainer\" overview_ | Carol Willing |\n",
    "| 13:40 | _Up and Running with Jupyter_| |\n",
    "| 13:40 | _fovea: Next-gen interactivity for data modeling_ | Rob Clewley |\n",
    "| 14:00 | _Bring Your Own Code_ | |\n",
    "| 14:00 | _Notebooks for Science_ |\n",
    "| 14:30 | ↳ _Teaching a Computer to Read Science_ | Nils Persson |\n",
    "| 15:00 | ↳ _Visualizing Simulation Results with Jupyter_ | Eric Hein |\n",
    "| 15:30 | ↳ _Fit Your Learning Curves For Fun and Profit_ | David Nicholson |"
   ]
  },
  {
   "cell_type": "markdown",
   "metadata": {
    "nbpresent": {
     "id": "d8618352-523f-4914-9432-85c7b222604c"
    }
   },
   "source": [
    "# Schedule: Together Again"
   ]
  },
  {
   "cell_type": "markdown",
   "metadata": {
    "nbpresent": {
     "id": "a237e1c5-b213-43a7-92ef-6f7b1ff4adb0"
    }
   },
   "source": [
    "| when  | what | who |\n",
    "|-------|------|-----|\n",
    "| 16:15 | Refreshments ||\n",
    "| 16:30 | _JupyterLab Walkthrough_ | Steve Silvester |\n",
    "| 17:00 | _Town Hall_ ||"
   ]
  },
  {
   "cell_type": "code",
   "execution_count": null,
   "metadata": {
    "collapsed": true
   },
   "outputs": [],
   "source": []
  }
 ],
 "metadata": {
  "anaconda-cloud": {},
  "kernelspec": {
   "display_name": "Python [default]",
   "language": "python",
   "name": "python3"
  },
  "language_info": {
   "codemirror_mode": {
    "name": "ipython",
    "version": 3
   },
   "file_extension": ".py",
   "mimetype": "text/x-python",
   "name": "python",
   "nbconvert_exporter": "python",
   "pygments_lexer": "ipython3",
   "version": "3.5.2"
  },
  "nbpresent": {
   "slides": {
    "2e7dc3af-ba45-41d6-b31c-308796f0a703": {
     "id": "2e7dc3af-ba45-41d6-b31c-308796f0a703",
     "layout": "grid",
     "prev": "7e243311-741b-4b55-8408-facfe91f2c98",
     "regions": {
      "3e6e47ad-cce3-44b4-a327-3e29cbb6f889": {
       "attrs": {
        "height": 0.6666666666666666,
        "pad": 0.01,
        "width": 0.8328343313373253,
        "x": 0.08333333333333333,
        "y": 0.25
       },
       "content": {
        "cell": "273f97af-7deb-4174-97a7-b5d6fd1339ad",
        "part": "source"
       },
       "id": "3e6e47ad-cce3-44b4-a327-3e29cbb6f889"
      },
      "99a7dcc7-73a4-4c29-858c-bc038fe86f5c": {
       "attrs": {
        "height": 0.16666666666666666,
        "pad": 0.01,
        "width": 0.8333333333333334,
        "x": 0.08333333333333333,
        "y": 0
       },
       "content": {
        "cell": "7a522d0a-ad49-42b0-bdf2-ce5778267245",
        "part": "source"
       },
       "id": "99a7dcc7-73a4-4c29-858c-bc038fe86f5c"
      }
     }
    },
    "30ac4dc8-f7e3-45c3-b920-5882df755c38": {
     "id": "30ac4dc8-f7e3-45c3-b920-5882df755c38",
     "layout": "grid",
     "prev": "2e7dc3af-ba45-41d6-b31c-308796f0a703",
     "regions": {
      "169861c1-b25b-4dea-8066-9ace8cb81124": {
       "attrs": {
        "height": 0.16666666666666666,
        "pad": 0.01,
        "width": 0.75,
        "x": 0.08333333333333333,
        "y": 0
       },
       "content": {
        "cell": "7d2d246c-f1aa-4945-889a-07acd1b0292a",
        "part": "source"
       },
       "id": "169861c1-b25b-4dea-8066-9ace8cb81124"
      },
      "6d352fc8-9930-4153-8f4f-7003ceb12a8e": {
       "attrs": {
        "height": 0.6666666666666666,
        "pad": 0.01,
        "width": 0.6666666666666666,
        "x": 0,
        "y": 0.25
       },
       "content": {
        "cell": "e2eaefd7-93b9-4c2d-8906-5558cdfad4ce",
        "part": "source"
       },
       "id": "6d352fc8-9930-4153-8f4f-7003ceb12a8e"
      },
      "cd613bc6-cbab-4899-bb5a-507a898f7ca5": {
       "attrs": {
        "height": 0.6666666666666666,
        "pad": 0.01,
        "width": 0.3333333333333333,
        "x": 0.6666666666666666,
        "y": 0.25
       },
       "content": {
        "cell": "08edb275-ee42-4f4f-b4d7-3c882c11cf2f",
        "part": "source"
       },
       "id": "cd613bc6-cbab-4899-bb5a-507a898f7ca5"
      }
     }
    },
    "41fbc345-50f6-416b-b54b-f3cd18eccc3f": {
     "id": "41fbc345-50f6-416b-b54b-f3cd18eccc3f",
     "layout": "grid",
     "prev": "defaae7a-3d9e-4489-98a2-4c8e9c0acabb",
     "regions": {
      "4dd9d32e-bbbe-418e-bf1a-60c7962a5b35": {
       "attrs": {
        "height": 0.16666666666666666,
        "pad": 0.01,
        "width": 0.8333333333333334,
        "x": 0.08233532934131736,
        "y": 0
       },
       "content": {
        "cell": "7418ed67-a052-4439-9ee1-583dd1f15d59",
        "part": "source"
       },
       "id": "4dd9d32e-bbbe-418e-bf1a-60c7962a5b35"
      },
      "9749ed14-0054-485a-bbbb-2433d086caf2": {
       "attrs": {
        "height": 0.8333333333333334,
        "pad": 0.01,
        "width": 0.8333333333333334,
        "x": 0.08333333333333333,
        "y": 0.16666666666666666
       },
       "content": {
        "cell": "c36091e3-5fa4-45d1-8171-1767b55b1b97",
        "part": "source"
       },
       "id": "9749ed14-0054-485a-bbbb-2433d086caf2"
      }
     }
    },
    "748ade10-f6da-494e-a4f3-0f3bf632bb3d": {
     "id": "748ade10-f6da-494e-a4f3-0f3bf632bb3d",
     "layout": "manual",
     "prev": "c339d1fa-935d-4162-a585-d3847a0b5c66",
     "regions": {
      "15287666-c747-4b7b-bd60-ed9db4c31424": {
       "attrs": {
        "height": 0.16666666666666666,
        "pad": 0.01,
        "width": 0.16666666666666666,
        "x": 0.08333333128942115,
        "y": 0.3333333333333333
       },
       "content": {
        "cell": "f95a1e4f-1fe6-464a-9e2a-2ffb9d643d6d",
        "part": "source"
       },
       "id": "15287666-c747-4b7b-bd60-ed9db4c31424"
      },
      "6d4d0a22-4a3c-4912-8bef-65e1176eb583": {
       "attrs": {
        "height": 0.3333333333333333,
        "pad": 0.01,
        "width": 0.16666666666666666,
        "x": 0.6666666666666666,
        "y": 0.5833333333333334
       },
       "content": {
        "cell": "8796c7d1-dc26-4551-abc8-8f6518558b72",
        "part": "source"
       },
       "id": "6d4d0a22-4a3c-4912-8bef-65e1176eb583"
      },
      "7a366453-524c-4d4d-a558-ec9a926f7df4": {
       "attrs": {
        "height": 0.3333333333333333,
        "pad": 0.01,
        "width": 0.25,
        "x": 0.3333333333333333,
        "y": 0.5833333333333334
       },
       "content": {
        "cell": "de5675b6-0295-4f8c-b244-fdf202c45287",
        "part": "source"
       },
       "id": "7a366453-524c-4d4d-a558-ec9a926f7df4"
      },
      "828b6b3f-e6cd-457e-87ae-31b3a063a3db": {
       "attrs": {
        "height": 0.16666666666666666,
        "pad": 0.01,
        "width": 0.08333333333333333,
        "x": 0.7065868263473054,
        "y": 0.3333333333333333
       },
       "content": {
        "cell": "f619d847-1755-41bb-a50b-993cce2da324",
        "part": "source"
       },
       "id": "828b6b3f-e6cd-457e-87ae-31b3a063a3db"
      },
      "8e5d305d-6620-4f09-902e-d06e3eaf8336": {
       "attrs": {
        "height": 0.3333333333333333,
        "pad": 0.01,
        "width": 0.16666666666666666,
        "x": 0.08233534569261478,
        "y": 0.5833333333333334
       },
       "content": {
        "cell": "9d80abf9-ea6f-40db-accb-ebc2e3819439",
        "part": "source"
       },
       "id": "8e5d305d-6620-4f09-902e-d06e3eaf8336"
      },
      "9fa6e65f-7570-4f58-82f6-59b2ed2849ff": {
       "attrs": {
        "height": 0.16666666666666666,
        "pad": 0.01,
        "width": 0.25,
        "x": 0.3333333333333333,
        "y": 0.3333333333333333
       },
       "content": {
        "cell": "cedde6e7-f649-4615-9d38-c8ea51602c44",
        "part": "source"
       },
       "id": "9fa6e65f-7570-4f58-82f6-59b2ed2849ff"
      },
      "dcdc24c0-3bb8-4685-abd1-e739abbdf600": {
       "attrs": {
        "height": 0.16666666666666666,
        "pad": 0.01,
        "width": 0.8333333333333334,
        "x": 0.08333333333333333,
        "y": 0.012364160567753382
       },
       "content": {
        "cell": "853907ae-0b68-4988-b6d3-333897e57a1c",
        "part": "source"
       },
       "id": "dcdc24c0-3bb8-4685-abd1-e739abbdf600"
      }
     }
    },
    "783319db-28a1-4d66-a98a-585398b44785": {
     "id": "783319db-28a1-4d66-a98a-585398b44785",
     "layout": "grid",
     "prev": "41fbc345-50f6-416b-b54b-f3cd18eccc3f",
     "regions": {
      "6eee8b96-d950-436e-840a-f861ac927279": {
       "attrs": {
        "height": 0.8333333333333334,
        "pad": 0.01,
        "width": 0.8333333333333334,
        "x": 0.08333333333333333,
        "y": 0.16666666666666666
       },
       "content": {
        "cell": "a237e1c5-b213-43a7-92ef-6f7b1ff4adb0",
        "part": "source"
       },
       "id": "6eee8b96-d950-436e-840a-f861ac927279"
      },
      "ef0c5b9b-d841-41e1-9541-7f0c199cfa3a": {
       "attrs": {
        "height": 0.16666666666666666,
        "pad": 0.01,
        "width": 0.8333333333333334,
        "x": 0.08233532934131736,
        "y": 0
       },
       "content": {
        "cell": "d8618352-523f-4914-9432-85c7b222604c",
        "part": "source"
       },
       "id": "ef0c5b9b-d841-41e1-9541-7f0c199cfa3a"
      }
     }
    },
    "7e243311-741b-4b55-8408-facfe91f2c98": {
     "id": "7e243311-741b-4b55-8408-facfe91f2c98",
     "layout": "grid",
     "prev": "748ade10-f6da-494e-a4f3-0f3bf632bb3d",
     "regions": {
      "3bdbbd52-40d2-45f4-812f-b1a9ad5ae3e9": {
       "attrs": {
        "height": 0.6666666666666666,
        "pad": 0.01,
        "width": 0.3333333333333333,
        "x": 0.08333333333333333,
        "y": 0.25
       },
       "content": {
        "cell": "60464d0f-5ff3-4b67-8c71-93c499687694",
        "part": "source"
       },
       "id": "3bdbbd52-40d2-45f4-812f-b1a9ad5ae3e9"
      },
      "53d8aa76-cc98-4ffc-a536-e65c183075bd": {
       "attrs": {
        "height": 0.6666666666666666,
        "pad": 0.01,
        "width": 0.3333333333333333,
        "x": 0.5,
        "y": 0.25
       },
       "content": {
        "cell": "a843a112-6178-439b-9445-3f822315e700",
        "part": "source"
       },
       "id": "53d8aa76-cc98-4ffc-a536-e65c183075bd"
      },
      "a6c0db16-38bb-4509-bdb2-0e2a8159b859": {
       "attrs": {
        "height": 0.16666666666666666,
        "pad": 0.01,
        "width": 0.75,
        "x": 0.08333333333333333,
        "y": 0
       },
       "content": {
        "cell": "7a522d0a-ad49-42b0-bdf2-ce5778267245",
        "part": "source"
       },
       "id": "a6c0db16-38bb-4509-bdb2-0e2a8159b859"
      }
     }
    },
    "c339d1fa-935d-4162-a585-d3847a0b5c66": {
     "id": "c339d1fa-935d-4162-a585-d3847a0b5c66",
     "layout": "manual",
     "prev": null,
     "regions": {
      "3069efe8-e998-47fb-bdde-3b258b41f276": {
       "attrs": {
        "height": 1,
        "pad": 0.01,
        "width": 1.25,
        "x": 0.25,
        "y": -0.08333333333333333
       },
       "content": {
        "cell": "39dfbbd7-256e-45f4-9301-b4380f0b6b9f",
        "part": "source"
       },
       "id": "3069efe8-e998-47fb-bdde-3b258b41f276"
      },
      "41db09ca-0b39-4096-9fec-cdc80df33263": {
       "attrs": {
        "height": 0.5833333333333334,
        "pad": 0.01,
        "width": 0.25,
        "x": 0.000998003992015968,
        "y": 0.3966666671208696
       },
       "content": {
        "cell": "e0e7da9b-06a8-427b-9715-411cee2bd899",
        "part": "source"
       },
       "id": "41db09ca-0b39-4096-9fec-cdc80df33263"
      },
      "f6388274-5675-4b61-baf6-a5bc4651fe8e": {
       "attrs": {
        "height": 0.5833333333333334,
        "pad": 0.01,
        "width": 0.4166666666666667,
        "x": -0.10732534930139717,
        "y": 0.063333333333333
       },
       "content": {
        "cell": "de5675b6-0295-4f8c-b244-fdf202c45287",
        "part": "source"
       },
       "id": "f6388274-5675-4b61-baf6-a5bc4651fe8e"
      }
     }
    },
    "defaae7a-3d9e-4489-98a2-4c8e9c0acabb": {
     "id": "defaae7a-3d9e-4489-98a2-4c8e9c0acabb",
     "layout": "grid",
     "prev": "f0287462-82ac-48f7-ae0b-0a03f1ddf356",
     "regions": {
      "44bb928e-4f47-4627-ad3c-a7802d2afbb3": {
       "attrs": {
        "height": 0.8333333333333334,
        "pad": 0.01,
        "width": 0.8333333333333334,
        "x": 0.08333333333333333,
        "y": 0.16666666666666666
       },
       "content": {
        "cell": "8ae5a178-8e1c-457f-a9bb-f5b8592683f7",
        "part": "source"
       },
       "id": "44bb928e-4f47-4627-ad3c-a7802d2afbb3"
      },
      "8b02ce4b-3230-410b-b0fb-ca323eb81702": {
       "attrs": {
        "height": 0.16666666666666666,
        "pad": 0.01,
        "width": 0.8333333333333334,
        "x": 0.08233532934131736,
        "y": 0
       },
       "content": {
        "cell": "2c917833-5133-4569-bc26-e5e92b6b1617",
        "part": "source"
       },
       "id": "8b02ce4b-3230-410b-b0fb-ca323eb81702"
      }
     }
    },
    "f0287462-82ac-48f7-ae0b-0a03f1ddf356": {
     "id": "f0287462-82ac-48f7-ae0b-0a03f1ddf356",
     "layout": "grid",
     "prev": "30ac4dc8-f7e3-45c3-b920-5882df755c38",
     "regions": {
      "41c1a9b1-15f1-461e-9900-baee72c4ee0f": {
       "attrs": {
        "height": 0.16666666666666666,
        "pad": 0.01,
        "width": 0.8333333333333334,
        "x": 0.08333333333333333,
        "y": 0
       },
       "content": {
        "cell": "8267ed68-9482-47a1-9c0b-826f3e4f5fde",
        "part": "source"
       },
       "id": "41c1a9b1-15f1-461e-9900-baee72c4ee0f"
      },
      "facf2e95-9fef-4527-846d-3d00aeb88af6": {
       "attrs": {
        "height": 0.75,
        "pad": 0.01,
        "width": 0.3333333333333333,
        "x": 0.3333333333333333,
        "y": 0.16666666666666666
       },
       "content": {
        "cell": "6418b085-babb-4786-9032-4637575aa216",
        "part": "source"
       },
       "id": "facf2e95-9fef-4527-846d-3d00aeb88af6"
      }
     }
    }
   },
   "themes": {
    "default": "77766e3f-bfe6-4b14-88a8-9bc6e1e75f14",
    "theme": {
     "77766e3f-bfe6-4b14-88a8-9bc6e1e75f14": {
      "backgrounds": {
       "backgroundColor": {
        "background-color": "backgroundColor",
        "id": "backgroundColor"
       }
      },
      "id": "77766e3f-bfe6-4b14-88a8-9bc6e1e75f14",
      "palette": {
       "backgroundColor": {
        "id": "backgroundColor",
        "rgb": [
         256,
         256,
         256
        ]
       },
       "headingColor": {
        "id": "headingColor",
        "rgb": [
         0,
         0,
         0
        ]
       },
       "linkColor": {
        "id": "linkColor",
        "rgb": [
         0,
         0,
         139
        ]
       },
       "mainColor": {
        "id": "mainColor",
        "rgb": [
         0,
         0,
         0
        ]
       }
      },
      "rules": {
       "a": {
        "color": "linkColor"
       },
       "h1": {
        "color": "headingColor",
        "font-family": "News Cycle",
        "font-size": 7
       },
       "h2": {
        "color": "headingColor",
        "font-family": "News Cycle",
        "font-size": 5
       },
       "h3": {
        "color": "headingColor",
        "font-family": "News Cycle",
        "font-size": 3.75
       },
       "h4": {
        "color": "headingColor",
        "font-family": "News Cycle",
        "font-size": 3
       },
       "h5": {
        "color": "headingColor",
        "font-family": "News Cycle"
       },
       "h6": {
        "color": "headingColor",
        "font-family": "News Cycle"
       },
       "h7": {
        "color": "headingColor",
        "font-family": "News Cycle"
       },
       "li": {
        "color": "mainColor",
        "font-family": "Lato",
        "font-size": 4
       },
       "p": {
        "color": "mainColor",
        "font-family": "Lato",
        "font-size": 4
       }
      },
      "text-base": {
       "color": "mainColor",
       "font-family": "Lato",
       "font-size": 4
      }
     }
    }
   }
  }
 },
 "nbformat": 4,
 "nbformat_minor": 0
}
